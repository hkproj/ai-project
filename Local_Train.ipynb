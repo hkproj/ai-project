{
 "cells": [
  {
   "cell_type": "code",
   "execution_count": null,
   "metadata": {},
   "outputs": [],
   "source": [
    "from options import get_config\n",
    "\n",
    "config = get_config()\n",
    "config['batch_size'] = 4\n",
    "config['sleep'] = 0\n",
    "config['preload'] = '0160'\n",
    "config['allow_cuda'] = True\n",
    "config['weights_folder'] = '/mnt/g/My Drive/Models/ai-project/weights'\n",
    "config['tokenizer_folder'] = '/mnt/g/My Drive/Models/ai-project/dataset'\n",
    "config['dataset_folder'] = '/mnt/g/My Drive/Models/ai-project/dataset'\n",
    "config['experiment_name'] = '/mnt/g/My Drive/Models/ai-project/runs/italip'\n",
    "\n",
    "from train import run\n",
    "run(config)\n"
   ]
  },
  {
   "cell_type": "code",
   "execution_count": null,
   "metadata": {},
   "outputs": [],
   "source": []
  }
 ],
 "metadata": {
  "kernelspec": {
   "display_name": "ai-project",
   "language": "python",
   "name": "python3"
  },
  "language_info": {
   "codemirror_mode": {
    "name": "ipython",
    "version": 3
   },
   "file_extension": ".py",
   "mimetype": "text/x-python",
   "name": "python",
   "nbconvert_exporter": "python",
   "pygments_lexer": "ipython3",
   "version": "3.10.6"
  },
  "orig_nbformat": 4
 },
 "nbformat": 4,
 "nbformat_minor": 2
}
